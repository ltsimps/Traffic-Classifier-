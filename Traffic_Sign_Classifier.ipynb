{
 "cells": [
  {
   "cell_type": "markdown",
   "metadata": {},
   "source": [
    "# Self-Driving Car Engineer Nanodegree\n",
    "\n",
    "## Deep Learning\n",
    "\n",
    "## Project: Build a Traffic Sign Recognition Classifier\n",
    "\n",
    "In this notebook, a template is provided for you to implement your functionality in stages, which is required to successfully complete this project. If additional code is required that cannot be included in the notebook, be sure that the Python code is successfully imported and included in your submission if necessary. \n",
    "\n",
    "> **Note**: Once you have completed all of the code implementations, you need to finalize your work by exporting the iPython Notebook as an HTML document. Before exporting the notebook to html, all of the code cells need to have been run so that reviewers can see the final implementation and output. You can then export the notebook by using the menu above and navigating to  \\n\",\n",
    "    \"**File -> Download as -> HTML (.html)**. Include the finished document along with this notebook as your submission. \n",
    "\n",
    "In addition to implementing code, there is a writeup to complete. The writeup should be completed in a separate file, which can be either a markdown file or a pdf document. There is a [write up template](https://github.com/udacity/CarND-Traffic-Sign-Classifier-Project/blob/master/writeup_template.md) that can be used to guide the writing process. Completing the code template and writeup template will cover all of the [rubric points](https://review.udacity.com/#!/rubrics/481/view) for this project.\n",
    "\n",
    "The [rubric](https://review.udacity.com/#!/rubrics/481/view) contains \"Stand Out Suggestions\" for enhancing the project beyond the minimum requirements. The stand out suggestions are optional. If you decide to pursue the \"stand out suggestions\", you can include the code in this Ipython notebook and also discuss the results in the writeup file.\n",
    "\n",
    "\n",
    ">**Note:** Code and Markdown cells can be executed using the **Shift + Enter** keyboard shortcut. In addition, Markdown cells can be edited by typically double-clicking the cell to enter edit mode."
   ]
  },
  {
   "cell_type": "markdown",
   "metadata": {},
   "source": [
    "---\n",
    "## Step 0: Load The Data"
   ]
  },
  {
   "cell_type": "code",
   "execution_count": 2,
   "metadata": {
    "collapsed": false
   },
   "outputs": [
    {
     "name": "stdout",
     "output_type": "stream",
     "text": [
      "[[[[116 139 174]\n",
      "   [116 137 171]\n",
      "   [118 138 172]\n",
      "   ..., \n",
      "   [ 98 114 143]\n",
      "   [ 97 121 147]\n",
      "   [ 85 105 130]]\n",
      "\n",
      "  [[115 142 176]\n",
      "   [115 140 174]\n",
      "   [117 141 175]\n",
      "   ..., \n",
      "   [119 143 176]\n",
      "   [120 141 173]\n",
      "   [120 139 171]]\n",
      "\n",
      "  [[117 141 174]\n",
      "   [117 142 175]\n",
      "   [114 140 172]\n",
      "   ..., \n",
      "   [120 144 179]\n",
      "   [122 144 179]\n",
      "   [120 143 177]]\n",
      "\n",
      "  ..., \n",
      "  [[117 137 167]\n",
      "   [115 134 164]\n",
      "   [117 135 164]\n",
      "   ..., \n",
      "   [115 137 169]\n",
      "   [116 136 168]\n",
      "   [118 139 172]]\n",
      "\n",
      "  [[116 136 166]\n",
      "   [114 134 168]\n",
      "   [113 131 166]\n",
      "   ..., \n",
      "   [113 135 167]\n",
      "   [117 136 165]\n",
      "   [115 139 167]]\n",
      "\n",
      "  [[112 135 167]\n",
      "   [110 134 165]\n",
      "   [119 135 165]\n",
      "   ..., \n",
      "   [115 138 167]\n",
      "   [117 138 167]\n",
      "   [114 140 170]]]\n",
      "\n",
      "\n",
      " [[[ 59  70  61]\n",
      "   [ 87  80  63]\n",
      "   [ 92  81  63]\n",
      "   ..., \n",
      "   [ 77  64  67]\n",
      "   [ 71  65  67]\n",
      "   [ 74  69  68]]\n",
      "\n",
      "  [[ 59  68  58]\n",
      "   [ 94  83  65]\n",
      "   [ 95  80  62]\n",
      "   ..., \n",
      "   [ 77  64  66]\n",
      "   [ 92  69  70]\n",
      "   [ 85  68  68]]\n",
      "\n",
      "  [[ 56  68  58]\n",
      "   [ 90  84  67]\n",
      "   [ 95  82  64]\n",
      "   ..., \n",
      "   [ 72  65  66]\n",
      "   [ 80  67  69]\n",
      "   [ 79  69  70]]\n",
      "\n",
      "  ..., \n",
      "  [[ 48  47  43]\n",
      "   [ 79  68  57]\n",
      "   [ 80  66  56]\n",
      "   ..., \n",
      "   [ 68  63  63]\n",
      "   [ 78  65  65]\n",
      "   [ 76  66  68]]\n",
      "\n",
      "  [[ 49  46  45]\n",
      "   [ 78  66  61]\n",
      "   [ 78  65  58]\n",
      "   ..., \n",
      "   [ 60  60  61]\n",
      "   [ 68  65  65]\n",
      "   [ 73  67  67]]\n",
      "\n",
      "  [[ 51  45  45]\n",
      "   [ 78  66  61]\n",
      "   [ 79  66  58]\n",
      "   ..., \n",
      "   [ 62  59  62]\n",
      "   [ 73  67  70]\n",
      "   [ 75  70  70]]]\n",
      "\n",
      "\n",
      " [[[ 52  40  38]\n",
      "   [ 51  39  37]\n",
      "   [ 50  38  37]\n",
      "   ..., \n",
      "   [ 53  44  46]\n",
      "   [ 54  45  48]\n",
      "   [ 55  45  48]]\n",
      "\n",
      "  [[ 59  45  42]\n",
      "   [ 59  44  41]\n",
      "   [ 56  44  40]\n",
      "   ..., \n",
      "   [ 52  41  42]\n",
      "   [ 54  44  45]\n",
      "   [ 55  46  45]]\n",
      "\n",
      "  [[ 67  49  44]\n",
      "   [ 65  50  45]\n",
      "   [ 65  49  45]\n",
      "   ..., \n",
      "   [ 57  42  39]\n",
      "   [ 55  42  40]\n",
      "   [ 56  43  40]]\n",
      "\n",
      "  ..., \n",
      "  [[ 28  24  26]\n",
      "   [ 29  25  27]\n",
      "   [ 29  27  30]\n",
      "   ..., \n",
      "   [ 27  24  24]\n",
      "   [ 28  25  24]\n",
      "   [ 29  27  27]]\n",
      "\n",
      "  [[ 31  28  29]\n",
      "   [ 37  32  34]\n",
      "   [ 41  35  37]\n",
      "   ..., \n",
      "   [ 34  31  28]\n",
      "   [ 42  40  38]\n",
      "   [ 47  45  45]]\n",
      "\n",
      "  [[ 32  29  30]\n",
      "   [ 33  28  28]\n",
      "   [ 44  34  32]\n",
      "   ..., \n",
      "   [ 41  40  38]\n",
      "   [ 44  43  43]\n",
      "   [ 47  46  44]]]\n",
      "\n",
      "\n",
      " ..., \n",
      " [[[ 24  27  34]\n",
      "   [ 23  25  32]\n",
      "   [ 24  25  32]\n",
      "   ..., \n",
      "   [ 26  27  33]\n",
      "   [ 26  27  34]\n",
      "   [ 26  27  34]]\n",
      "\n",
      "  [[ 25  26  33]\n",
      "   [ 25  26  34]\n",
      "   [ 25  26  33]\n",
      "   ..., \n",
      "   [ 26  27  34]\n",
      "   [ 27  27  35]\n",
      "   [ 28  28  36]]\n",
      "\n",
      "  [[ 26  26  32]\n",
      "   [ 25  25  32]\n",
      "   [ 25  25  31]\n",
      "   ..., \n",
      "   [ 26  27  33]\n",
      "   [ 27  27  33]\n",
      "   [ 27  26  34]]\n",
      "\n",
      "  ..., \n",
      "  [[ 16  17  21]\n",
      "   [ 15  16  21]\n",
      "   [ 14  16  21]\n",
      "   ..., \n",
      "   [ 19  21  30]\n",
      "   [ 20  22  32]\n",
      "   [ 19  21  30]]\n",
      "\n",
      "  [[ 16  17  22]\n",
      "   [ 15  16  21]\n",
      "   [ 14  16  21]\n",
      "   ..., \n",
      "   [ 19  21  30]\n",
      "   [ 20  22  32]\n",
      "   [ 19  22  32]]\n",
      "\n",
      "  [[ 15  16  21]\n",
      "   [ 15  16  21]\n",
      "   [ 14  16  21]\n",
      "   ..., \n",
      "   [ 18  21  30]\n",
      "   [ 19  22  32]\n",
      "   [ 18  22  31]]]\n",
      "\n",
      "\n",
      " [[[ 47  58  73]\n",
      "   [ 49  53  67]\n",
      "   [ 59  57  63]\n",
      "   ..., \n",
      "   [ 39  36  44]\n",
      "   [ 12  10  12]\n",
      "   [ 10   9  12]]\n",
      "\n",
      "  [[ 61  68  84]\n",
      "   [ 61  58  72]\n",
      "   [ 60  57  67]\n",
      "   ..., \n",
      "   [ 26  23  31]\n",
      "   [ 12  10   8]\n",
      "   [ 11   9  11]]\n",
      "\n",
      "  [[ 66  75  93]\n",
      "   [ 72  79  99]\n",
      "   [ 67  73  94]\n",
      "   ..., \n",
      "   [ 36  36  38]\n",
      "   [ 25  21  14]\n",
      "   [ 13   9  10]]\n",
      "\n",
      "  ..., \n",
      "  [[ 16  16  19]\n",
      "   [ 15  15  18]\n",
      "   [ 14  13  17]\n",
      "   ..., \n",
      "   [ 32  31  37]\n",
      "   [ 36  37  44]\n",
      "   [ 24  24  23]]\n",
      "\n",
      "  [[ 13  12  15]\n",
      "   [ 13  12  14]\n",
      "   [ 12  11  13]\n",
      "   ..., \n",
      "   [ 26  28  33]\n",
      "   [ 32  35  39]\n",
      "   [ 28  27  24]]\n",
      "\n",
      "  [[ 12  11  14]\n",
      "   [ 12  11  14]\n",
      "   [ 12  10  12]\n",
      "   ..., \n",
      "   [ 28  32  40]\n",
      "   [ 36  37  40]\n",
      "   [ 29  27  22]]]\n",
      "\n",
      "\n",
      " [[[ 10  10  13]\n",
      "   [ 10  10  13]\n",
      "   [ 10   9  12]\n",
      "   ..., \n",
      "   [ 13  12  15]\n",
      "   [ 13  12  15]\n",
      "   [ 13  12  16]]\n",
      "\n",
      "  [[ 12  11  14]\n",
      "   [  9   9  12]\n",
      "   [  9   9  12]\n",
      "   ..., \n",
      "   [ 13  12  14]\n",
      "   [ 13  12  15]\n",
      "   [ 13  12  16]]\n",
      "\n",
      "  [[ 11   9  11]\n",
      "   [  9   8  11]\n",
      "   [  9   9  12]\n",
      "   ..., \n",
      "   [ 13  12  14]\n",
      "   [ 13  12  15]\n",
      "   [ 13  12  16]]\n",
      "\n",
      "  ..., \n",
      "  [[ 11   9  13]\n",
      "   [ 10   9  12]\n",
      "   [ 11  10  13]\n",
      "   ..., \n",
      "   [ 11  10  13]\n",
      "   [ 10   9  12]\n",
      "   [ 12  11  14]]\n",
      "\n",
      "  [[ 11  10  14]\n",
      "   [ 11  10  14]\n",
      "   [ 11  10  14]\n",
      "   ..., \n",
      "   [  9   9  12]\n",
      "   [  9   9  11]\n",
      "   [ 12  11  13]]\n",
      "\n",
      "  [[ 10  10  13]\n",
      "   [ 10   9  12]\n",
      "   [ 11   9  12]\n",
      "   ..., \n",
      "   [ 10  10  13]\n",
      "   [  9  10  12]\n",
      "   [ 11  11  13]]]]\n"
     ]
    }
   ],
   "source": [
    "# Load pickled data\n",
    "import pickle\n",
    "\n",
    "# TODO: Fill this in based on where you saved the training and testing data\n",
    "\n",
    "training_file = './traffic-signs-data/train.p'\n",
    "validation_file=  './traffic-signs-data/valid.p'\n",
    "testing_file = './traffic-signs-data/test.p'\n",
    "\n",
    "with open(training_file, mode='rb') as f:\n",
    "    train = pickle.load(f)\n",
    "with open(validation_file, mode='rb') as f:\n",
    "    valid = pickle.load(f)\n",
    "with open(testing_file, mode='rb') as f:\n",
    "    test = pickle.load(f)\n",
    "    \n",
    "X_train, y_train = train['features'], train['labels']\n",
    "X_valid, y_valid = valid['features'], valid['labels']\n",
    "X_test, y_test = test['features'], test['labels']\n",
    "#print(X_test) test if data loaded correctly"
   ]
  },
  {
   "cell_type": "markdown",
   "metadata": {},
   "source": [
    "---\n",
    "\n",
    "## Step 1: Dataset Summary & Exploration\n",
    "\n",
    "The pickled data is a dictionary with 4 key/value pairs:\n",
    "\n",
    "- `'features'` is a 4D array containing raw pixel data of the traffic sign images, (num examples, width, height, channels).\n",
    "- `'labels'` is a 1D array containing the label/class id of the traffic sign. The file `signnames.csv` contains id -> name mappings for each id.\n",
    "- `'sizes'` is a list containing tuples, (width, height) representing the original width and height the image.\n",
    "- `'coords'` is a list containing tuples, (x1, y1, x2, y2) representing coordinates of a bounding box around the sign in the image. **THESE COORDINATES ASSUME THE ORIGINAL IMAGE. THE PICKLED DATA CONTAINS RESIZED VERSIONS (32 by 32) OF THESE IMAGES**\n",
    "\n",
    "Complete the basic data summary below. Use python, numpy and/or pandas methods to calculate the data summary rather than hard coding the results. For example, the [pandas shape method](http://pandas.pydata.org/pandas-docs/stable/generated/pandas.DataFrame.shape.html) might be useful for calculating some of the summary results. "
   ]
  },
  {
   "cell_type": "markdown",
   "metadata": {},
   "source": [
    "### Provide a Basic Summary of the Data Set Using Python, Numpy and/or Pandas"
   ]
  },
  {
   "cell_type": "code",
   "execution_count": null,
   "metadata": {
    "collapsed": true
   },
   "outputs": [],
   "source": [
    "### Replace each question mark with the appropriate value. \n",
    "### Use python, pandas or numpy methods rather than hard coding the results\n",
    "\n",
    "# TODO: Number of training examples\n",
    "n_train = \n",
    "\n",
    "# TODO: Number of validation examples\n",
    "n_validation = \n",
    "\n",
    "# TODO: Number of testing examples.\n",
    "n_test = ?\n",
    "\n",
    "# TODO: What's the shape of an traffic sign image?\n",
    "image_shape = ?\n",
    "\n",
    "# TODO: How many unique classes/labels there are in the dataset.\n",
    "n_classes = ?\n",
    "\n",
    "print(\"Number of training examples =\", n_train)\n",
    "print(\"Number of testing examples =\", n_test)\n",
    "print(\"Image data shape =\", image_shape)\n",
    "print(\"Number of classes =\", n_classes)"
   ]
  },
  {
   "cell_type": "markdown",
   "metadata": {},
   "source": [
    "### Include an exploratory visualization of the dataset"
   ]
  },
  {
   "cell_type": "markdown",
   "metadata": {},
   "source": [
    "Visualize the German Traffic Signs Dataset using the pickled file(s). This is open ended, suggestions include: plotting traffic sign images, plotting the count of each sign, etc. \n",
    "\n",
    "The [Matplotlib](http://matplotlib.org/) [examples](http://matplotlib.org/examples/index.html) and [gallery](http://matplotlib.org/gallery.html) pages are a great resource for doing visualizations in Python.\n",
    "\n",
    "**NOTE:** It's recommended you start with something simple first. If you wish to do more, come back to it after you've completed the rest of the sections. It can be interesting to look at the distribution of classes in the training, validation and test set. Is the distribution the same? Are there more examples of some classes than others?"
   ]
  },
  {
   "cell_type": "code",
   "execution_count": 16,
   "metadata": {
    "collapsed": true
   },
   "outputs": [],
   "source": [
    "### Data exploration visualization code goes here.\n",
    "### Feel free to use as many code cells as needed.\n",
    "import matplotlib.pyplot as plt\n",
    "# Visualizations will be shown in the notebook.\n",
    "%matplotlib inline"
   ]
  },
  {
   "cell_type": "markdown",
   "metadata": {},
   "source": [
    "----\n",
    "\n",
    "## Step 2: Design and Test a Model Architecture\n",
    "\n",
    "Design and implement a deep learning model that learns to recognize traffic signs. Train and test your model on the [German Traffic Sign Dataset](http://benchmark.ini.rub.de/?section=gtsrb&subsection=dataset).\n",
    "\n",
    "The LeNet-5 implementation shown in the [classroom](https://classroom.udacity.com/nanodegrees/nd013/parts/fbf77062-5703-404e-b60c-95b78b2f3f9e/modules/6df7ae49-c61c-4bb2-a23e-6527e69209ec/lessons/601ae704-1035-4287-8b11-e2c2716217ad/concepts/d4aca031-508f-4e0b-b493-e7b706120f81) at the end of the CNN lesson is a solid starting point. You'll have to change the number of classes and possibly the preprocessing, but aside from that it's plug and play! \n",
    "\n",
    "With the LeNet-5 solution from the lecture, you should expect a validation set accuracy of about 0.89. To meet specifications, the validation set accuracy will need to be at least 0.93. It is possible to get an even higher accuracy, but 0.93 is the minimum for a successful project submission. \n",
    "\n",
    "There are various aspects to consider when thinking about this problem:\n",
    "\n",
    "- Neural network architecture (is the network over or underfitting?)\n",
    "- Play around preprocessing techniques (normalization, rgb to grayscale, etc)\n",
    "- Number of examples per label (some have more than others).\n",
    "- Generate fake data.\n",
    "\n",
    "Here is an example of a [published baseline model on this problem](http://yann.lecun.com/exdb/publis/pdf/sermanet-ijcnn-11.pdf). It's not required to be familiar with the approach used in the paper but, it's good practice to try to read papers like these."
   ]
  },
  {
   "cell_type": "markdown",
   "metadata": {},
   "source": [
    "### Pre-process the Data Set (normalization, grayscale, etc.)"
   ]
  },
  {
   "cell_type": "markdown",
   "metadata": {},
   "source": [
    "Minimally, the image data should be normalized so that the data has mean zero and equal variance. For image data, `(pixel - 128)/ 128` is a quick way to approximately normalize the data and can be used in this project. \n",
    "\n",
    "Other pre-processing steps are optional. You can try different techniques to see if it improves performance. \n",
    "\n",
    "Use the code cell (or multiple code cells, if necessary) to implement the first step of your project."
   ]
  },
  {
   "cell_type": "code",
   "execution_count": 4,
   "metadata": {
    "collapsed": true
   },
   "outputs": [],
   "source": [
    "### Preprocess the data here. It is required to normalize the data. Other preprocessing steps could include \n",
    "### converting to grayscale, etc.\n",
    "### Feel free to use as many code cells as needed."
   ]
  },
  {
   "cell_type": "markdown",
   "metadata": {},
   "source": [
    "### Model Architecture"
   ]
  },
  {
   "cell_type": "code",
   "execution_count": null,
   "metadata": {
    "collapsed": true
   },
   "outputs": [],
   "source": [
    "### Define your architecture here.\n",
    "### Feel free to use as many code cells as needed."
   ]
  },
  {
   "cell_type": "markdown",
   "metadata": {},
   "source": [
    "### Train, Validate and Test the Model"
   ]
  },
  {
   "cell_type": "markdown",
   "metadata": {},
   "source": [
    "A validation set can be used to assess how well the model is performing. A low accuracy on the training and validation\n",
    "sets imply underfitting. A high accuracy on the training set but low accuracy on the validation set implies overfitting."
   ]
  },
  {
   "cell_type": "code",
   "execution_count": 1,
   "metadata": {
    "collapsed": true
   },
   "outputs": [],
   "source": [
    "### Train your model here.\n",
    "### Calculate and report the accuracy on the training and validation set.\n",
    "### Once a final model architecture is selected, \n",
    "### the accuracy on the test set should be calculated and reported as well.\n",
    "### Feel free to use as many code cells as needed."
   ]
  },
  {
   "cell_type": "markdown",
   "metadata": {},
   "source": [
    "---\n",
    "\n",
    "## Step 3: Test a Model on New Images\n",
    "\n",
    "To give yourself more insight into how your model is working, download at least five pictures of German traffic signs from the web and use your model to predict the traffic sign type.\n",
    "\n",
    "You may find `signnames.csv` useful as it contains mappings from the class id (integer) to the actual sign name."
   ]
  },
  {
   "cell_type": "markdown",
   "metadata": {},
   "source": [
    "### Load and Output the Images"
   ]
  },
  {
   "cell_type": "code",
   "execution_count": null,
   "metadata": {
    "collapsed": true
   },
   "outputs": [],
   "source": [
    "### Load the images and plot them here.\n",
    "### Feel free to use as many code cells as needed."
   ]
  },
  {
   "cell_type": "markdown",
   "metadata": {},
   "source": [
    "### Predict the Sign Type for Each Image"
   ]
  },
  {
   "cell_type": "code",
   "execution_count": 3,
   "metadata": {
    "collapsed": true
   },
   "outputs": [],
   "source": [
    "### Run the predictions here and use the model to output the prediction for each image.\n",
    "### Make sure to pre-process the images with the same pre-processing pipeline used earlier.\n",
    "### Feel free to use as many code cells as needed."
   ]
  },
  {
   "cell_type": "markdown",
   "metadata": {},
   "source": [
    "### Analyze Performance"
   ]
  },
  {
   "cell_type": "code",
   "execution_count": 4,
   "metadata": {
    "collapsed": true
   },
   "outputs": [],
   "source": [
    "### Calculate the accuracy for these 5 new images. \n",
    "### For example, if the model predicted 1 out of 5 signs correctly, it's 20% accurate on these new images."
   ]
  },
  {
   "cell_type": "markdown",
   "metadata": {},
   "source": [
    "### Output Top 5 Softmax Probabilities For Each Image Found on the Web"
   ]
  },
  {
   "cell_type": "markdown",
   "metadata": {},
   "source": [
    "For each of the new images, print out the model's softmax probabilities to show the **certainty** of the model's predictions (limit the output to the top 5 probabilities for each image). [`tf.nn.top_k`](https://www.tensorflow.org/versions/r0.12/api_docs/python/nn.html#top_k) could prove helpful here. \n",
    "\n",
    "The example below demonstrates how tf.nn.top_k can be used to find the top k predictions for each image.\n",
    "\n",
    "`tf.nn.top_k` will return the values and indices (class ids) of the top k predictions. So if k=3, for each sign, it'll return the 3 largest probabilities (out of a possible 43) and the correspoding class ids.\n",
    "\n",
    "Take this numpy array as an example. The values in the array represent predictions. The array contains softmax probabilities for five candidate images with six possible classes. `tk.nn.top_k` is used to choose the three classes with the highest probability:\n",
    "\n",
    "```\n",
    "# (5, 6) array\n",
    "a = np.array([[ 0.24879643,  0.07032244,  0.12641572,  0.34763842,  0.07893497,\n",
    "         0.12789202],\n",
    "       [ 0.28086119,  0.27569815,  0.08594638,  0.0178669 ,  0.18063401,\n",
    "         0.15899337],\n",
    "       [ 0.26076848,  0.23664738,  0.08020603,  0.07001922,  0.1134371 ,\n",
    "         0.23892179],\n",
    "       [ 0.11943333,  0.29198961,  0.02605103,  0.26234032,  0.1351348 ,\n",
    "         0.16505091],\n",
    "       [ 0.09561176,  0.34396535,  0.0643941 ,  0.16240774,  0.24206137,\n",
    "         0.09155967]])\n",
    "```\n",
    "\n",
    "Running it through `sess.run(tf.nn.top_k(tf.constant(a), k=3))` produces:\n",
    "\n",
    "```\n",
    "TopKV2(values=array([[ 0.34763842,  0.24879643,  0.12789202],\n",
    "       [ 0.28086119,  0.27569815,  0.18063401],\n",
    "       [ 0.26076848,  0.23892179,  0.23664738],\n",
    "       [ 0.29198961,  0.26234032,  0.16505091],\n",
    "       [ 0.34396535,  0.24206137,  0.16240774]]), indices=array([[3, 0, 5],\n",
    "       [0, 1, 4],\n",
    "       [0, 5, 1],\n",
    "       [1, 3, 5],\n",
    "       [1, 4, 3]], dtype=int32))\n",
    "```\n",
    "\n",
    "Looking just at the first row we get `[ 0.34763842,  0.24879643,  0.12789202]`, you can confirm these are the 3 largest probabilities in `a`. You'll also notice `[3, 0, 5]` are the corresponding indices."
   ]
  },
  {
   "cell_type": "code",
   "execution_count": 3,
   "metadata": {
    "collapsed": true
   },
   "outputs": [],
   "source": [
    "### Print out the top five softmax probabilities for the predictions on the German traffic sign images found on the web. \n",
    "### Feel free to use as many code cells as needed."
   ]
  },
  {
   "cell_type": "markdown",
   "metadata": {},
   "source": [
    "### Project Writeup\n",
    "\n",
    "Once you have completed the code implementation, document your results in a project writeup using this [template](https://github.com/udacity/CarND-Traffic-Sign-Classifier-Project/blob/master/writeup_template.md) as a guide. The writeup can be in a markdown or pdf file. "
   ]
  },
  {
   "cell_type": "markdown",
   "metadata": {},
   "source": [
    "> **Note**: Once you have completed all of the code implementations and successfully answered each question above, you may finalize your work by exporting the iPython Notebook as an HTML document. You can do this by using the menu above and navigating to  \\n\",\n",
    "    \"**File -> Download as -> HTML (.html)**. Include the finished document along with this notebook as your submission."
   ]
  },
  {
   "cell_type": "markdown",
   "metadata": {},
   "source": [
    "---\n",
    "\n",
    "## Step 4 (Optional): Visualize the Neural Network's State with Test Images\n",
    "\n",
    " This Section is not required to complete but acts as an additional excersise for understaning the output of a neural network's weights. While neural networks can be a great learning device they are often referred to as a black box. We can understand what the weights of a neural network look like better by plotting their feature maps. After successfully training your neural network you can see what it's feature maps look like by plotting the output of the network's weight layers in response to a test stimuli image. From these plotted feature maps, it's possible to see what characteristics of an image the network finds interesting. For a sign, maybe the inner network feature maps react with high activation to the sign's boundary outline or to the contrast in the sign's painted symbol.\n",
    "\n",
    " Provided for you below is the function code that allows you to get the visualization output of any tensorflow weight layer you want. The inputs to the function should be a stimuli image, one used during training or a new one you provided, and then the tensorflow variable name that represents the layer's state during the training process, for instance if you wanted to see what the [LeNet lab's](https://classroom.udacity.com/nanodegrees/nd013/parts/fbf77062-5703-404e-b60c-95b78b2f3f9e/modules/6df7ae49-c61c-4bb2-a23e-6527e69209ec/lessons/601ae704-1035-4287-8b11-e2c2716217ad/concepts/d4aca031-508f-4e0b-b493-e7b706120f81) feature maps looked like for it's second convolutional layer you could enter conv2 as the tf_activation variable.\n",
    "\n",
    "For an example of what feature map outputs look like, check out NVIDIA's results in their paper [End-to-End Deep Learning for Self-Driving Cars](https://devblogs.nvidia.com/parallelforall/deep-learning-self-driving-cars/) in the section Visualization of internal CNN State. NVIDIA was able to show that their network's inner weights had high activations to road boundary lines by comparing feature maps from an image with a clear path to one without. Try experimenting with a similar test to show that your trained network's weights are looking for interesting features, whether it's looking at differences in feature maps from images with or without a sign, or even what feature maps look like in a trained network vs a completely untrained one on the same sign image.\n",
    "\n",
    "<figure>\n",
    " <img src=\"visualize_cnn.png\" width=\"380\" alt=\"Combined Image\" />\n",
    " <figcaption>\n",
    " <p></p> \n",
    " <p style=\"text-align: center;\"> Your output should look something like this (above)</p> \n",
    " </figcaption>\n",
    "</figure>\n",
    " <p></p> \n"
   ]
  },
  {
   "cell_type": "code",
   "execution_count": null,
   "metadata": {
    "collapsed": true
   },
   "outputs": [],
   "source": [
    "### Visualize your network's feature maps here.\n",
    "### Feel free to use as many code cells as needed.\n",
    "\n",
    "# image_input: the test image being fed into the network to produce the feature maps\n",
    "# tf_activation: should be a tf variable name used during your training procedure that represents the calculated state of a specific weight layer\n",
    "# activation_min/max: can be used to view the activation contrast in more detail, by default matplot sets min and max to the actual min and max values of the output\n",
    "# plt_num: used to plot out multiple different weight feature map sets on the same block, just extend the plt number for each new feature map entry\n",
    "\n",
    "def outputFeatureMap(image_input, tf_activation, activation_min=-1, activation_max=-1 ,plt_num=1):\n",
    "    # Here make sure to preprocess your image_input in a way your network expects\n",
    "    # with size, normalization, ect if needed\n",
    "    # image_input =\n",
    "    # Note: x should be the same name as your network's tensorflow data placeholder variable\n",
    "    # If you get an error tf_activation is not defined it may be having trouble accessing the variable from inside a function\n",
    "    activation = tf_activation.eval(session=sess,feed_dict={x : image_input})\n",
    "    featuremaps = activation.shape[3]\n",
    "    plt.figure(plt_num, figsize=(15,15))\n",
    "    for featuremap in range(featuremaps):\n",
    "        plt.subplot(6,8, featuremap+1) # sets the number of feature maps to show on each row and column\n",
    "        plt.title('FeatureMap ' + str(featuremap)) # displays the feature map number\n",
    "        if activation_min != -1 & activation_max != -1:\n",
    "            plt.imshow(activation[0,:,:, featuremap], interpolation=\"nearest\", vmin =activation_min, vmax=activation_max, cmap=\"gray\")\n",
    "        elif activation_max != -1:\n",
    "            plt.imshow(activation[0,:,:, featuremap], interpolation=\"nearest\", vmax=activation_max, cmap=\"gray\")\n",
    "        elif activation_min !=-1:\n",
    "            plt.imshow(activation[0,:,:, featuremap], interpolation=\"nearest\", vmin=activation_min, cmap=\"gray\")\n",
    "        else:\n",
    "            plt.imshow(activation[0,:,:, featuremap], interpolation=\"nearest\", cmap=\"gray\")"
   ]
  }
 ],
 "metadata": {
  "anaconda-cloud": {},
  "kernelspec": {
   "display_name": "Python [default]",
   "language": "python",
   "name": "python3"
  },
  "language_info": {
   "codemirror_mode": {
    "name": "ipython",
    "version": 3
   },
   "file_extension": ".py",
   "mimetype": "text/x-python",
   "name": "python",
   "nbconvert_exporter": "python",
   "pygments_lexer": "ipython3",
   "version": "3.5.2"
  }
 },
 "nbformat": 4,
 "nbformat_minor": 1
}
